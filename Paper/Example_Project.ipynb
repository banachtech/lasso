{
 "cells": [
  {
   "cell_type": "markdown",
   "id": "a532a554",
   "metadata": {},
   "source": [
    "One our trading strategies requires forecasts of volatility (= std dev of returns, returns typically mean log returns i.e. log(P(t)) - log(P(t-1)). \n",
    "So we are always looking for an edge here. I have attached a recently published paper on predicting volatility using a LASSO regression. \n",
    "LASSO stands for Least Absolute Shrinkage and Selection Operator and is just regression with L1 penalty. It is useful in stabilising parameter estimates as it produces sparse parameter estimates (exact zeros as opposed to small values). \n",
    "\n",
    "I have attached sample of crypto data as well. prices.csv has prices sampled every 30 minutes of 20 currencies. bid & ask.csv contain bid and ask volumes from order book snapshots at 30 min frequency and logvoldiff.csv contains log(bid/ask). Timestamps of all files should already be aligned, but it is good to check and make sure of it."
   ]
  },
  {
   "cell_type": "code",
   "execution_count": null,
   "id": "afdea59a",
   "metadata": {},
   "outputs": [],
   "source": [
    "# requirements.txt\n",
    "# numpy\n",
    "# pandas \n",
    "# pickle\n",
    "# statsmodels\n",
    "# matplotlib\n",
    "# pandas_profiling \n",
    "# scikit-learn"
   ]
  },
  {
   "cell_type": "markdown",
   "id": "04c23cf0",
   "metadata": {},
   "source": [
    "##### Imports"
   ]
  },
  {
   "cell_type": "code",
   "execution_count": 1,
   "id": "64918f31",
   "metadata": {
    "code_folding": []
   },
   "outputs": [],
   "source": [
    "# Import packages\n",
    "## Currently used conda environment for local system: (defi)\n",
    "import os\n",
    "import sys\n",
    "import math\n",
    "import time\n",
    "import json\n",
    "import random\n",
    "import requests\n",
    "import numpy as np\n",
    "import pandas as pd\n",
    "from pickle import dump\n",
    "from random import random\n",
    "import statsmodels.api as sm\n",
    "import matplotlib.pyplot as plt\n",
    "from pandas.plotting import lag_plot\n",
    "from pandas_profiling import ProfileReport\n",
    "from statsmodels.tsa.ar_model import AutoReg\n",
    "from pandas_visual_analysis import VisualAnalysis\n",
    "from statsmodels.tsa.stattools  import   grangercausalitytests\n",
    "from sklearn.metrics import mean_squared_error, mean_absolute_error\n",
    "%matplotlib inline \n"
   ]
  },
  {
   "cell_type": "code",
   "execution_count": 2,
   "id": "d9dbb53f",
   "metadata": {},
   "outputs": [],
   "source": [
    "prices_df     = pd.read_csv('data/prices.csv')\n",
    "logvoldiff_df = pd.read_csv('data/logvoldiff.csv')\n",
    "bid_df        = pd.read_csv('data/bid.csv')\n",
    "ask_df        = pd.read_csv('data/ask.csv')"
   ]
  },
  {
   "cell_type": "code",
   "execution_count": 3,
   "id": "99480a52",
   "metadata": {},
   "outputs": [
    {
     "name": "stdout",
     "output_type": "stream",
     "text": [
      "Prices DF shape:      (11073, 20)\n",
      "LogVolDiff DF shape:  (11073, 20)\n",
      "BID DF shape:         (11073, 20)\n",
      "ASK DF shape:         (11073, 20)\n"
     ]
    }
   ],
   "source": [
    "print(\"Prices DF shape:     \", prices_df.shape)\n",
    "print(\"LogVolDiff DF shape: \", logvoldiff_df.shape)\n",
    "print(\"BID DF shape:        \", bid_df.shape)\n",
    "print(\"ASK DF shape:        \", ask_df.shape)"
   ]
  },
  {
   "cell_type": "markdown",
   "id": "54a32dc3",
   "metadata": {},
   "source": [
    "##### Head"
   ]
  },
  {
   "cell_type": "code",
   "execution_count": null,
   "id": "ec24faf8",
   "metadata": {},
   "outputs": [],
   "source": [
    "prices_df.head()"
   ]
  },
  {
   "cell_type": "code",
   "execution_count": null,
   "id": "dd16db70",
   "metadata": {},
   "outputs": [],
   "source": [
    "logvoldiff_df.head()"
   ]
  },
  {
   "cell_type": "code",
   "execution_count": null,
   "id": "9a5947b3",
   "metadata": {},
   "outputs": [],
   "source": [
    "bid_df.head()"
   ]
  },
  {
   "cell_type": "code",
   "execution_count": null,
   "id": "c714afa4",
   "metadata": {},
   "outputs": [],
   "source": [
    "ask_df.head()"
   ]
  },
  {
   "cell_type": "code",
   "execution_count": null,
   "id": "31d1a3d8",
   "metadata": {},
   "outputs": [],
   "source": []
  },
  {
   "cell_type": "markdown",
   "id": "e8587dee",
   "metadata": {
    "heading_collapsed": true
   },
   "source": [
    "##### Describe"
   ]
  },
  {
   "cell_type": "code",
   "execution_count": null,
   "id": "6ec92b95",
   "metadata": {
    "hidden": true
   },
   "outputs": [],
   "source": [
    "prices_df.describe()"
   ]
  },
  {
   "cell_type": "code",
   "execution_count": null,
   "id": "448078a5",
   "metadata": {
    "hidden": true
   },
   "outputs": [],
   "source": [
    "logvoldiff_df.describe()"
   ]
  },
  {
   "cell_type": "code",
   "execution_count": null,
   "id": "972b17ef",
   "metadata": {
    "hidden": true
   },
   "outputs": [],
   "source": [
    "bid_df.describe()"
   ]
  },
  {
   "cell_type": "code",
   "execution_count": null,
   "id": "617f216a",
   "metadata": {
    "hidden": true
   },
   "outputs": [],
   "source": [
    "ask_df.describe()"
   ]
  },
  {
   "cell_type": "code",
   "execution_count": null,
   "id": "3c706f32",
   "metadata": {
    "hidden": true
   },
   "outputs": [],
   "source": []
  },
  {
   "cell_type": "markdown",
   "id": "499e3508",
   "metadata": {
    "heading_collapsed": true
   },
   "source": [
    "#####  Technical Indicators Theory"
   ]
  },
  {
   "cell_type": "markdown",
   "id": "496e6f39",
   "metadata": {
    "hidden": true
   },
   "source": [
    "1) Moving Average  (MA) - It  produces  a  buying  signal  when  the price exceeds its  most  recent  low  by  more  than  a  given  percentage  and  produces  a  selling signal when it moves in the opposite direction.  \n",
    "\n",
    "short = 1,2,3\n",
    "long  = 9,12 \n",
    "\n",
    "(5)\n",
    "\n",
    "2) Momentum - In  the  rule,  a  sell  signal  indicates  that value is  lower  than  its  level  of  m  periods  ago, which  implies  “negative”  momentum  and  a  low  stock  return.  We  compute the monthly signals for 1,2,3,6,9,12m.\n",
    "\n",
    "(6)\n",
    "\n",
    "3) Volume Data  - where k VOL is  a  measure of  the trading  volume  during  period  k.  A relatively high volume in the recent period will form a buy signal.\n",
    "\n",
    "short = 1,2,3\n",
    "long  = 9,12 \n",
    "\n",
    "(5)\n"
   ]
  },
  {
   "cell_type": "code",
   "execution_count": null,
   "id": "f78654af",
   "metadata": {
    "hidden": true
   },
   "outputs": [],
   "source": []
  },
  {
   "cell_type": "markdown",
   "id": "a3cbc0e2",
   "metadata": {
    "heading_collapsed": true
   },
   "source": [
    "##### EDA ( Whole Data ) "
   ]
  },
  {
   "cell_type": "code",
   "execution_count": null,
   "id": "38403ec9",
   "metadata": {
    "hidden": true
   },
   "outputs": [],
   "source": [
    "prices_profile = ProfileReport(prices_df, title='prices_profile', explorative=True, dark_mode=True, progress_bar=False)\n",
    "# prices_profile"
   ]
  },
  {
   "cell_type": "code",
   "execution_count": null,
   "id": "ca1e8cd5",
   "metadata": {
    "hidden": true
   },
   "outputs": [],
   "source": [
    "logvoldiff_profile = ProfileReport(logvoldiff_df, title='logvoldiff_profile', explorative=True, dark_mode=True, progress_bar=False)\n",
    "# logvoldiff_profile"
   ]
  },
  {
   "cell_type": "code",
   "execution_count": null,
   "id": "af770f85",
   "metadata": {
    "hidden": true
   },
   "outputs": [],
   "source": [
    "bid_profile = ProfileReport(bid_df, title='bid_profile', explorative=True, dark_mode=True, progress_bar=False)\n",
    "# bid_profile"
   ]
  },
  {
   "cell_type": "code",
   "execution_count": null,
   "id": "de14a9c9",
   "metadata": {
    "hidden": true
   },
   "outputs": [],
   "source": [
    "ask_profile = ProfileReport(ask_df, title='ask_profile', explorative=True, dark_mode=True, progress_bar=False)\n",
    "# ask_profile"
   ]
  },
  {
   "cell_type": "code",
   "execution_count": null,
   "id": "aa4e6b59",
   "metadata": {
    "hidden": true
   },
   "outputs": [],
   "source": []
  },
  {
   "cell_type": "code",
   "execution_count": null,
   "id": "4bd6826c",
   "metadata": {
    "hidden": true
   },
   "outputs": [],
   "source": []
  },
  {
   "cell_type": "markdown",
   "id": "253ce384",
   "metadata": {},
   "source": [
    "#####  Stock Return Voalitility (1inch)"
   ]
  },
  {
   "cell_type": "code",
   "execution_count": null,
   "id": "e0bb490b",
   "metadata": {},
   "outputs": [],
   "source": [
    "prices_df.columns"
   ]
  },
  {
   "cell_type": "code",
   "execution_count": 5,
   "id": "98e456da",
   "metadata": {},
   "outputs": [],
   "source": [
    "WINDOW = 240\n",
    "CRYPTO = 'bal'\n",
    "LAGS   = 6"
   ]
  },
  {
   "cell_type": "code",
   "execution_count": 6,
   "id": "8e16ec06",
   "metadata": {},
   "outputs": [],
   "source": [
    "test_df = pd.DataFrame()\n",
    "test_df['date']             = prices_df['datetime']\n",
    "test_df['prices']           = prices_df[CRYPTO] \n",
    "test_df['ask']              = ask_df[CRYPTO] \n",
    "test_df['bid']              = bid_df[CRYPTO] \n",
    "test_df['vol']              = 0.5 * (test_df['ask'] + test_df['bid'])\n",
    "test_df['logvoldiff']       = logvoldiff_df[CRYPTO]\n",
    "# test_df['Rt']               = np.log(test_df['prices'].rolling(2).mean())\n",
    "# test_df['Rt2']              = test_df['Rt'] * test_df['Rt']\n",
    "# test_df['RV(WINDOW)']       = test_df['Rt2'].rolling(WINDOW).mean()\n",
    "# test_df['daily_price_diff'] = test_df['prices'] - test_df['prices'].shift(1)\n",
    "# test_df['obv']              = test_df[['daily_price_diff']][1:].apply(lambda x: 1 if x['daily_price_diff']>0 \\\n",
    "#                                                                       else 0, axis=1) * test_df['Rt']\n",
    "\n",
    "# test_df['Rt']               = np.log(test_df['prices'].rolling(2).mean())\n",
    "# test_df['Rt2']              = test_df['Rt'] * test_df['Rt']\n",
    "\n",
    "test_df['Rt']               = np.log(test_df['prices']) - np.log(test_df['prices'].shift(1))\n",
    "test_df['Rt2']              = test_df['Rt'] * test_df['Rt']\n",
    "test_df['RV(WINDOW)']       = test_df['Rt2'].rolling(WINDOW).mean()\n",
    "test_df['daily_price_diff'] = test_df['prices'] - test_df['prices'].shift(1)\n",
    "test_df['obv']              = test_df[['daily_price_diff']].apply(lambda x: 1 if x['daily_price_diff']>0 else 0, axis=1) \\\n",
    "                                * test_df['vol']\n",
    "\n",
    "test_df = test_df.drop(['date'], axis=1)"
   ]
  },
  {
   "cell_type": "code",
   "execution_count": null,
   "id": "1f80480a",
   "metadata": {},
   "outputs": [],
   "source": []
  },
  {
   "cell_type": "code",
   "execution_count": 7,
   "id": "bccde4b6",
   "metadata": {},
   "outputs": [
    {
     "data": {
      "text/html": [
       "<div>\n",
       "<style scoped>\n",
       "    .dataframe tbody tr th:only-of-type {\n",
       "        vertical-align: middle;\n",
       "    }\n",
       "\n",
       "    .dataframe tbody tr th {\n",
       "        vertical-align: top;\n",
       "    }\n",
       "\n",
       "    .dataframe thead th {\n",
       "        text-align: right;\n",
       "    }\n",
       "</style>\n",
       "<table border=\"1\" class=\"dataframe\">\n",
       "  <thead>\n",
       "    <tr style=\"text-align: right;\">\n",
       "      <th></th>\n",
       "      <th>prices</th>\n",
       "      <th>ask</th>\n",
       "      <th>bid</th>\n",
       "      <th>vol</th>\n",
       "      <th>logvoldiff</th>\n",
       "      <th>Rt</th>\n",
       "      <th>Rt2</th>\n",
       "      <th>RV(WINDOW)</th>\n",
       "      <th>daily_price_diff</th>\n",
       "      <th>obv</th>\n",
       "    </tr>\n",
       "  </thead>\n",
       "  <tbody>\n",
       "    <tr>\n",
       "      <th>0</th>\n",
       "      <td>45.065</td>\n",
       "      <td>8974.2310</td>\n",
       "      <td>8360.846</td>\n",
       "      <td>8667.53850</td>\n",
       "      <td>-0.070798</td>\n",
       "      <td>NaN</td>\n",
       "      <td>NaN</td>\n",
       "      <td>NaN</td>\n",
       "      <td>NaN</td>\n",
       "      <td>0.00000</td>\n",
       "    </tr>\n",
       "    <tr>\n",
       "      <th>1</th>\n",
       "      <td>44.680</td>\n",
       "      <td>9431.8130</td>\n",
       "      <td>8701.479</td>\n",
       "      <td>9066.64600</td>\n",
       "      <td>-0.080595</td>\n",
       "      <td>-0.008580</td>\n",
       "      <td>0.000074</td>\n",
       "      <td>NaN</td>\n",
       "      <td>-0.385</td>\n",
       "      <td>0.00000</td>\n",
       "    </tr>\n",
       "    <tr>\n",
       "      <th>2</th>\n",
       "      <td>44.822</td>\n",
       "      <td>9240.2280</td>\n",
       "      <td>8863.599</td>\n",
       "      <td>9051.91350</td>\n",
       "      <td>-0.041614</td>\n",
       "      <td>0.003173</td>\n",
       "      <td>0.000010</td>\n",
       "      <td>NaN</td>\n",
       "      <td>0.142</td>\n",
       "      <td>9051.91350</td>\n",
       "    </tr>\n",
       "    <tr>\n",
       "      <th>3</th>\n",
       "      <td>45.296</td>\n",
       "      <td>9755.9230</td>\n",
       "      <td>8119.536</td>\n",
       "      <td>8937.72950</td>\n",
       "      <td>-0.183602</td>\n",
       "      <td>0.010520</td>\n",
       "      <td>0.000111</td>\n",
       "      <td>NaN</td>\n",
       "      <td>0.474</td>\n",
       "      <td>8937.72950</td>\n",
       "    </tr>\n",
       "    <tr>\n",
       "      <th>4</th>\n",
       "      <td>45.080</td>\n",
       "      <td>9523.8620</td>\n",
       "      <td>8033.560</td>\n",
       "      <td>8778.71100</td>\n",
       "      <td>-0.170173</td>\n",
       "      <td>-0.004780</td>\n",
       "      <td>0.000023</td>\n",
       "      <td>NaN</td>\n",
       "      <td>-0.216</td>\n",
       "      <td>0.00000</td>\n",
       "    </tr>\n",
       "    <tr>\n",
       "      <th>...</th>\n",
       "      <td>...</td>\n",
       "      <td>...</td>\n",
       "      <td>...</td>\n",
       "      <td>...</td>\n",
       "      <td>...</td>\n",
       "      <td>...</td>\n",
       "      <td>...</td>\n",
       "      <td>...</td>\n",
       "      <td>...</td>\n",
       "      <td>...</td>\n",
       "    </tr>\n",
       "    <tr>\n",
       "      <th>11068</th>\n",
       "      <td>22.235</td>\n",
       "      <td>17176.8520</td>\n",
       "      <td>10423.850</td>\n",
       "      <td>13800.35100</td>\n",
       "      <td>-0.499466</td>\n",
       "      <td>-0.001124</td>\n",
       "      <td>0.000001</td>\n",
       "      <td>0.000072</td>\n",
       "      <td>-0.025</td>\n",
       "      <td>0.00000</td>\n",
       "    </tr>\n",
       "    <tr>\n",
       "      <th>11069</th>\n",
       "      <td>21.948</td>\n",
       "      <td>14059.8990</td>\n",
       "      <td>10076.301</td>\n",
       "      <td>12068.10000</td>\n",
       "      <td>-0.333140</td>\n",
       "      <td>-0.012992</td>\n",
       "      <td>0.000169</td>\n",
       "      <td>0.000073</td>\n",
       "      <td>-0.287</td>\n",
       "      <td>0.00000</td>\n",
       "    </tr>\n",
       "    <tr>\n",
       "      <th>11070</th>\n",
       "      <td>22.017</td>\n",
       "      <td>14107.3100</td>\n",
       "      <td>11318.000</td>\n",
       "      <td>12712.65500</td>\n",
       "      <td>-0.220299</td>\n",
       "      <td>0.003139</td>\n",
       "      <td>0.000010</td>\n",
       "      <td>0.000072</td>\n",
       "      <td>0.069</td>\n",
       "      <td>12712.65500</td>\n",
       "    </tr>\n",
       "    <tr>\n",
       "      <th>11071</th>\n",
       "      <td>21.873</td>\n",
       "      <td>13884.0000</td>\n",
       "      <td>11887.360</td>\n",
       "      <td>12885.68000</td>\n",
       "      <td>-0.155261</td>\n",
       "      <td>-0.006562</td>\n",
       "      <td>0.000043</td>\n",
       "      <td>0.000072</td>\n",
       "      <td>-0.144</td>\n",
       "      <td>0.00000</td>\n",
       "    </tr>\n",
       "    <tr>\n",
       "      <th>11072</th>\n",
       "      <td>21.974</td>\n",
       "      <td>14085.2705</td>\n",
       "      <td>12073.801</td>\n",
       "      <td>13079.53575</td>\n",
       "      <td>-0.154092</td>\n",
       "      <td>0.004607</td>\n",
       "      <td>0.000021</td>\n",
       "      <td>0.000072</td>\n",
       "      <td>0.101</td>\n",
       "      <td>13079.53575</td>\n",
       "    </tr>\n",
       "  </tbody>\n",
       "</table>\n",
       "<p>11073 rows × 10 columns</p>\n",
       "</div>"
      ],
      "text/plain": [
       "       prices         ask        bid          vol  logvoldiff        Rt  \\\n",
       "0      45.065   8974.2310   8360.846   8667.53850   -0.070798       NaN   \n",
       "1      44.680   9431.8130   8701.479   9066.64600   -0.080595 -0.008580   \n",
       "2      44.822   9240.2280   8863.599   9051.91350   -0.041614  0.003173   \n",
       "3      45.296   9755.9230   8119.536   8937.72950   -0.183602  0.010520   \n",
       "4      45.080   9523.8620   8033.560   8778.71100   -0.170173 -0.004780   \n",
       "...       ...         ...        ...          ...         ...       ...   \n",
       "11068  22.235  17176.8520  10423.850  13800.35100   -0.499466 -0.001124   \n",
       "11069  21.948  14059.8990  10076.301  12068.10000   -0.333140 -0.012992   \n",
       "11070  22.017  14107.3100  11318.000  12712.65500   -0.220299  0.003139   \n",
       "11071  21.873  13884.0000  11887.360  12885.68000   -0.155261 -0.006562   \n",
       "11072  21.974  14085.2705  12073.801  13079.53575   -0.154092  0.004607   \n",
       "\n",
       "            Rt2  RV(WINDOW)  daily_price_diff          obv  \n",
       "0           NaN         NaN               NaN      0.00000  \n",
       "1      0.000074         NaN            -0.385      0.00000  \n",
       "2      0.000010         NaN             0.142   9051.91350  \n",
       "3      0.000111         NaN             0.474   8937.72950  \n",
       "4      0.000023         NaN            -0.216      0.00000  \n",
       "...         ...         ...               ...          ...  \n",
       "11068  0.000001    0.000072            -0.025      0.00000  \n",
       "11069  0.000169    0.000073            -0.287      0.00000  \n",
       "11070  0.000010    0.000072             0.069  12712.65500  \n",
       "11071  0.000043    0.000072            -0.144      0.00000  \n",
       "11072  0.000021    0.000072             0.101  13079.53575  \n",
       "\n",
       "[11073 rows x 10 columns]"
      ]
     },
     "execution_count": 7,
     "metadata": {},
     "output_type": "execute_result"
    }
   ],
   "source": [
    "test_df"
   ]
  },
  {
   "cell_type": "markdown",
   "id": "d237a91a",
   "metadata": {},
   "source": [
    "##### Technical Indicators"
   ]
  },
  {
   "cell_type": "code",
   "execution_count": 8,
   "id": "6a9e1a93",
   "metadata": {},
   "outputs": [],
   "source": [
    "# Moving Average ( s = 1,2,3), l = (9,12)\n",
    "test_df['pricesma2']   = test_df['prices'].rolling(2).mean()\n",
    "test_df['pricesma3']   = test_df['prices'].rolling(3).mean()\n",
    "test_df['pricesma9']   = test_df['prices'].rolling(9).mean()\n",
    "test_df['pricesma12']  = test_df['prices'].rolling(12).mean()"
   ]
  },
  {
   "cell_type": "code",
   "execution_count": 9,
   "id": "077667e9",
   "metadata": {},
   "outputs": [],
   "source": [
    "# Momentum Signal is computed monthly so analogoues to our use case, compunting it in windows.\n",
    "# ( s = 1,2,3), l = (9,12)\n",
    "test_df['pricesmo2']   = test_df['prices'].rolling(WINDOW * 2).mean()\n",
    "test_df['pricesmo3']   = test_df['prices'].rolling(WINDOW * 3).mean()\n",
    "test_df['pricesmo6']   = test_df['prices'].rolling(WINDOW * 6).mean()\n",
    "test_df['pricesmo9']   = test_df['prices'].rolling(WINDOW * 9).mean()\n",
    "test_df['pricesmo12']  = test_df['prices'].rolling(WINDOW * 12).mean()"
   ]
  },
  {
   "cell_type": "code",
   "execution_count": 10,
   "id": "ba60ec1e",
   "metadata": {},
   "outputs": [],
   "source": [
    "#On Balance Volume ( s = 1,2,3), l = (9,12)\n",
    "test_df['obv2']        = test_df['obv'].rolling(WINDOW * 2).mean()\n",
    "test_df['obv3']        = test_df['obv'].rolling(WINDOW * 3).mean()\n",
    "test_df['obv6']        = test_df['obv'].rolling(WINDOW * 6).mean()\n",
    "test_df['obv9']        = test_df['obv'].rolling(WINDOW * 9).mean()\n",
    "test_df['obv12']       = test_df['obv'].rolling(WINDOW * 12).mean()"
   ]
  },
  {
   "cell_type": "code",
   "execution_count": null,
   "id": "6cd272a0",
   "metadata": {},
   "outputs": [],
   "source": []
  },
  {
   "cell_type": "markdown",
   "id": "bf5be31d",
   "metadata": {},
   "source": [
    "#####  EDA ( Crypt Data)"
   ]
  },
  {
   "cell_type": "code",
   "execution_count": null,
   "id": "0fd6c406",
   "metadata": {},
   "outputs": [],
   "source": [
    "CRYPTO_profile = ProfileReport(test_df, title='profile', explorative=True, dark_mode=True, progress_bar=False)\n",
    "# CRYPTO_profile"
   ]
  },
  {
   "cell_type": "code",
   "execution_count": null,
   "id": "a58c56ae",
   "metadata": {},
   "outputs": [],
   "source": [
    "# CRYPTO_profile.to_file(\"CRYPTO_profile.html\")"
   ]
  },
  {
   "cell_type": "code",
   "execution_count": null,
   "id": "7b70d40b",
   "metadata": {},
   "outputs": [],
   "source": [
    "# gc_res = grangercausalitytests(test_df[['RV(WINDOW)', 'Rt2']], 12)"
   ]
  },
  {
   "cell_type": "code",
   "execution_count": null,
   "id": "1bf573c4",
   "metadata": {},
   "outputs": [],
   "source": [
    "gc_df = test_df[WINDOW:].copy()\n",
    "gc_df = gc_df.fillna(gc_df.mean())"
   ]
  },
  {
   "cell_type": "code",
   "execution_count": null,
   "id": "0b012f37",
   "metadata": {
    "scrolled": true
   },
   "outputs": [],
   "source": [
    "gc_res = grangercausalitytests(gc_df[['RV(WINDOW)', 'ask']], 12)"
   ]
  },
  {
   "cell_type": "code",
   "execution_count": null,
   "id": "5515b218",
   "metadata": {
    "scrolled": true
   },
   "outputs": [],
   "source": [
    "gc_res = grangercausalitytests(gc_df[['RV(WINDOW)', 'prices']], 12)"
   ]
  },
  {
   "cell_type": "code",
   "execution_count": null,
   "id": "10179214",
   "metadata": {
    "scrolled": true
   },
   "outputs": [],
   "source": [
    "gc_res = grangercausalitytests(gc_df[['RV(WINDOW)', 'obv']], 12)"
   ]
  },
  {
   "cell_type": "code",
   "execution_count": null,
   "id": "9b4485a9",
   "metadata": {
    "scrolled": true
   },
   "outputs": [],
   "source": [
    "gc_res = grangercausalitytests(gc_df[['RV(WINDOW)', 'logvoldiff']], 12)"
   ]
  },
  {
   "cell_type": "code",
   "execution_count": null,
   "id": "a162492e",
   "metadata": {},
   "outputs": [],
   "source": []
  },
  {
   "cell_type": "code",
   "execution_count": null,
   "id": "276bfb46",
   "metadata": {},
   "outputs": [],
   "source": []
  },
  {
   "cell_type": "code",
   "execution_count": null,
   "id": "bf9a8150",
   "metadata": {},
   "outputs": [],
   "source": [
    "test_df['RV(WINDOW)'].describe()"
   ]
  },
  {
   "cell_type": "code",
   "execution_count": null,
   "id": "7deac52f",
   "metadata": {},
   "outputs": [],
   "source": [
    "test_df['RV(WINDOW)'].hist(bins=100)\n",
    "mean = test_df['RV(WINDOW)'].mean()\n",
    "std  = test_df['RV(WINDOW)'].std()\n",
    "plt.axvline(mean,color='red',linestyle='dashed',linewidth=2)\n",
    "#to plot the std line we plot both the positive and negative values \n",
    "plt.axvline(std,color='g',linestyle='dashed',linewidth=2)\n",
    "plt.axvline(-std,color='g',linestyle='dashed',linewidth=2)"
   ]
  },
  {
   "cell_type": "code",
   "execution_count": null,
   "id": "9c961529",
   "metadata": {},
   "outputs": [],
   "source": [
    "test_df['RV(WINDOW)'].kurtosis()\n",
    "#distribution is flatter than a normal curve with the same mean and standard deviation"
   ]
  },
  {
   "cell_type": "code",
   "execution_count": null,
   "id": "8bd35361",
   "metadata": {},
   "outputs": [],
   "source": []
  },
  {
   "cell_type": "code",
   "execution_count": null,
   "id": "c20eeb30",
   "metadata": {},
   "outputs": [],
   "source": []
  },
  {
   "cell_type": "markdown",
   "id": "5e4eabba",
   "metadata": {},
   "source": [
    "#####  Forcasting Methods "
   ]
  },
  {
   "cell_type": "markdown",
   "id": "1f10b638",
   "metadata": {},
   "source": [
    "######  Autoregression Model"
   ]
  },
  {
   "cell_type": "markdown",
   "id": "cb7355b5",
   "metadata": {},
   "source": [
    "The autoregression (AR) method models the next step in the sequence as a linear function of the observations at prior time steps. Parameters of the model:\n",
    "\n",
    "Number of AR (Auto-Regressive) terms (p): p is the parameter associated with the auto-regressive aspect of the model, which incorporates past values i.e lags of dependent variable. For instance if p is 5, the predictors for x(t) will be x(t-1)….x(t-5)."
   ]
  },
  {
   "cell_type": "markdown",
   "id": "9a6f47d4",
   "metadata": {},
   "source": [
    "![alt text](equation.png \"Title\")"
   ]
  },
  {
   "cell_type": "code",
   "execution_count": null,
   "id": "ba7f1ca6",
   "metadata": {},
   "outputs": [],
   "source": []
  },
  {
   "cell_type": "code",
   "execution_count": null,
   "id": "8108d98f",
   "metadata": {},
   "outputs": [],
   "source": []
  },
  {
   "cell_type": "code",
   "execution_count": 11,
   "id": "d2bd2be1",
   "metadata": {},
   "outputs": [],
   "source": [
    "# Voalatity to be predicted\n",
    "# Leaving first WINDOW variables as they have NAN\n",
    "y = test_df[WINDOW:]['RV(WINDOW)'] \n",
    "# Independent variables\n",
    "X = test_df[WINDOW:].drop(['RV(WINDOW)'], axis=1)\n",
    "X = X.fillna(X.mean())\n",
    "y = y.fillna(y.mean())\n",
    "X = sm.add_constant(X) "
   ]
  },
  {
   "cell_type": "code",
   "execution_count": 12,
   "id": "02573d3b",
   "metadata": {},
   "outputs": [
    {
     "name": "stdout",
     "output_type": "stream",
     "text": [
      "Training Data shape :  (10593, 24) (10593,)\n",
      "Testing  Data shape :  (240, 24) (240,)\n"
     ]
    }
   ],
   "source": [
    "# Preparing Common Data from Autoression Model and OLS model\n",
    "train_y = y[:-WINDOW]\n",
    "train_X = X[:-WINDOW]\n",
    "test_X  = X[-WINDOW:]\n",
    "test_y  = y[-WINDOW:]\n",
    "print(\"Training Data shape : \", train_X.shape, train_y.shape)\n",
    "print(\"Testing  Data shape : \", test_X.shape, test_y.shape)"
   ]
  },
  {
   "cell_type": "code",
   "execution_count": 14,
   "id": "758e93bb",
   "metadata": {},
   "outputs": [],
   "source": [
    "# Preparing autoregression data\n",
    "train_ar = train_y\n",
    "test_ar  = test_y.values\n",
    "LAGS     = 6\n",
    "\n",
    "# Train autoregression\n",
    "model = AutoReg(train_ar,lags=LAGS)\n",
    "# Fit the unconditional maximum likelihood of an AR(p) process.\n",
    "model_fit = model.fit()\n"
   ]
  },
  {
   "cell_type": "code",
   "execution_count": 15,
   "id": "b9e2e7a7",
   "metadata": {},
   "outputs": [],
   "source": [
    "window = LAGS#model_fit.ar_lags\n",
    "coef = model_fit.params"
   ]
  },
  {
   "cell_type": "code",
   "execution_count": 16,
   "id": "4e731863",
   "metadata": {},
   "outputs": [],
   "source": [
    "history = train_ar[len(train_ar)-window:].values\n",
    "history = [history[i] for i in range(len(history))]\n",
    "# The list of predictions\n",
    "predictions = list()"
   ]
  },
  {
   "cell_type": "code",
   "execution_count": 17,
   "id": "c76eccdc",
   "metadata": {},
   "outputs": [],
   "source": [
    "# Walk-forward validation\n",
    "# Walk forward over time steps in test\n",
    "for t in range(len(test_ar)):\n",
    "    length = len(history)\n",
    "    lag = [history[i] for i in range(length-window, length)]\n",
    "    yhat = coef[0]\n",
    "    for d in range(window):\n",
    "        yhat += coef[d+1] * lag[window-d-1]\n",
    "    obs = test_ar[t]\n",
    "    # Store forecast\n",
    "    predictions.append(yhat)\n",
    "    history.append(obs)"
   ]
  },
  {
   "cell_type": "code",
   "execution_count": 18,
   "id": "91ab7912",
   "metadata": {},
   "outputs": [
    {
     "name": "stdout",
     "output_type": "stream",
     "text": [
      "MSE:  5.60347931653173e-13\n",
      "MAE:  4.7413018446323856e-07\n",
      "RMSE: 7.485639128712878e-07\n"
     ]
    }
   ],
   "source": [
    "from sklearn.metrics import mean_squared_error, mean_absolute_error\n",
    "import math\n",
    "\n",
    "# Mean Squared Error – átlagos négyzetes hiba\n",
    "mse = mean_squared_error(test_ar, predictions)\n",
    "print('MSE:  ' + str(mse))\n",
    "# Mean Absolute Error\n",
    "mae = mean_absolute_error(test_ar, predictions)\n",
    "print('MAE:  ' + str(mae))\n",
    "# Root Mean Squared Error - a MSE négyzetgyöke\n",
    "rmse = math.sqrt(mean_squared_error(test_ar, predictions))\n",
    "print('RMSE: ' + str(rmse))"
   ]
  },
  {
   "cell_type": "code",
   "execution_count": null,
   "id": "10931986",
   "metadata": {},
   "outputs": [],
   "source": []
  },
  {
   "cell_type": "code",
   "execution_count": null,
   "id": "7e20ed1b",
   "metadata": {},
   "outputs": [],
   "source": []
  },
  {
   "cell_type": "code",
   "execution_count": null,
   "id": "74f990f2",
   "metadata": {},
   "outputs": [],
   "source": []
  },
  {
   "cell_type": "markdown",
   "id": "b5819bc0",
   "metadata": {},
   "source": [
    "#####  OLS Estimation of the importance of other features"
   ]
  },
  {
   "cell_type": "markdown",
   "id": "8b313068",
   "metadata": {},
   "source": [
    "![alt text](eq2.png \"OLS\")"
   ]
  },
  {
   "cell_type": "code",
   "execution_count": null,
   "id": "3ab6c460",
   "metadata": {},
   "outputs": [],
   "source": [
    "# adding volatility variables"
   ]
  },
  {
   "cell_type": "code",
   "execution_count": null,
   "id": "8e48fbbe",
   "metadata": {},
   "outputs": [],
   "source": []
  },
  {
   "cell_type": "markdown",
   "id": "099bc484",
   "metadata": {},
   "source": [
    "###### Using single lag of volatility"
   ]
  },
  {
   "cell_type": "code",
   "execution_count": 19,
   "id": "d746d731",
   "metadata": {},
   "outputs": [],
   "source": [
    "ols_df = test_df.copy()"
   ]
  },
  {
   "cell_type": "code",
   "execution_count": 21,
   "id": "b83dddc1",
   "metadata": {},
   "outputs": [],
   "source": [
    "y = ols_df[WINDOW:]['RV(WINDOW)'] \n",
    "# Independent variables\n",
    "X = ols_df[WINDOW:].drop(['RV(WINDOW)'], axis=1)\n",
    "X = X.fillna(X.mean())\n",
    "y = y.fillna(y.mean())\n",
    "X = sm.add_constant(X) \n",
    "\n",
    "# Preparing Common Data from Autoression Model and OLS model\n",
    "train_y = y[:-WINDOW]\n",
    "train_X = X[:-WINDOW]\n",
    "test_X  = X[-WINDOW:]\n",
    "test_y  = y[-WINDOW:]"
   ]
  },
  {
   "cell_type": "code",
   "execution_count": 22,
   "id": "05909159",
   "metadata": {},
   "outputs": [],
   "source": [
    "est = sm.OLS(train_y, train_X)"
   ]
  },
  {
   "cell_type": "code",
   "execution_count": 23,
   "id": "51fc535b",
   "metadata": {},
   "outputs": [
    {
     "name": "stdout",
     "output_type": "stream",
     "text": [
      "                            OLS Regression Results                            \n",
      "==============================================================================\n",
      "Dep. Variable:             RV(WINDOW)   R-squared:                       0.293\n",
      "Model:                            OLS   Adj. R-squared:                  0.292\n",
      "Method:                 Least Squares   F-statistic:                     199.5\n",
      "Date:                Wed, 05 Jan 2022   Prob (F-statistic):               0.00\n",
      "Time:                        02:46:00   Log-Likelihood:                 88587.\n",
      "No. Observations:               10593   AIC:                        -1.771e+05\n",
      "Df Residuals:                   10570   BIC:                        -1.770e+05\n",
      "Df Model:                          22                                         \n",
      "Covariance Type:            nonrobust                                         \n",
      "====================================================================================\n",
      "                       coef    std err          t      P>|t|      [0.025      0.975]\n",
      "------------------------------------------------------------------------------------\n",
      "const              4.78e-05   3.54e-06     13.493      0.000    4.09e-05    5.47e-05\n",
      "prices           -1.396e-06   1.51e-05     -0.093      0.926   -3.09e-05    2.81e-05\n",
      "ask               4.482e-10   8.23e-11      5.446      0.000    2.87e-10    6.09e-10\n",
      "bid              -1.555e-10   7.69e-11     -2.022      0.043   -3.06e-10   -4.78e-12\n",
      "vol               1.462e-10   1.03e-11     14.240      0.000    1.26e-10    1.66e-10\n",
      "logvoldiff        2.004e-05   1.77e-06     11.308      0.000    1.66e-05    2.35e-05\n",
      "Rt                   0.0002      0.000      1.258      0.209   -9.33e-05       0.000\n",
      "Rt2                  0.0048      0.000     11.602      0.000       0.004       0.006\n",
      "daily_price_diff -1.434e-06   8.23e-06     -0.174      0.862   -1.76e-05    1.47e-05\n",
      "obv               -3.78e-11   4.16e-11     -0.910      0.363   -1.19e-10    4.37e-11\n",
      "pricesma2         3.177e-06   1.56e-05      0.204      0.839   -2.74e-05    3.37e-05\n",
      "pricesma3        -1.696e-06   4.75e-06     -0.357      0.721    -1.1e-05    7.61e-06\n",
      "pricesma9         8.975e-06   3.94e-06      2.279      0.023    1.25e-06    1.67e-05\n",
      "pricesma12       -1.203e-05   3.04e-06     -3.961      0.000    -1.8e-05   -6.08e-06\n",
      "pricesmo2         5.354e-06   3.22e-07     16.620      0.000    4.72e-06    5.99e-06\n",
      "pricesmo3        -2.272e-06   3.14e-07     -7.231      0.000   -2.89e-06   -1.66e-06\n",
      "pricesmo6        -2.214e-06   1.58e-07    -14.022      0.000   -2.52e-06    -1.9e-06\n",
      "pricesmo9         5.677e-06   1.41e-07     40.210      0.000     5.4e-06    5.95e-06\n",
      "pricesmo12        -2.09e-06   1.15e-07    -18.230      0.000   -2.31e-06   -1.87e-06\n",
      "obv2             -7.634e-10   2.89e-10     -2.638      0.008   -1.33e-09   -1.96e-10\n",
      "obv3              2.015e-09   4.12e-10      4.896      0.000    1.21e-09    2.82e-09\n",
      "obv6             -3.483e-09   5.93e-10     -5.873      0.000   -4.65e-09   -2.32e-09\n",
      "obv9              9.079e-09    8.4e-10     10.804      0.000    7.43e-09    1.07e-08\n",
      "obv12             -5.99e-09   7.42e-10     -8.070      0.000   -7.45e-09   -4.54e-09\n",
      "==============================================================================\n",
      "Omnibus:                     6452.286   Durbin-Watson:                   0.014\n",
      "Prob(Omnibus):                  0.000   Jarque-Bera (JB):            63870.923\n",
      "Skew:                           2.846   Prob(JB):                         0.00\n",
      "Kurtosis:                      13.597   Cond. No.                     1.51e+16\n",
      "==============================================================================\n",
      "\n",
      "Notes:\n",
      "[1] Standard Errors assume that the covariance matrix of the errors is correctly specified.\n",
      "[2] The smallest eigenvalue is 1.19e-19. This might indicate that there are\n",
      "strong multicollinearity problems or that the design matrix is singular.\n"
     ]
    }
   ],
   "source": [
    "est = est.fit()\n",
    "print(est.summary())"
   ]
  },
  {
   "cell_type": "code",
   "execution_count": 24,
   "id": "a9be2d22",
   "metadata": {},
   "outputs": [],
   "source": [
    "predictions = est.predict(test_X).values"
   ]
  },
  {
   "cell_type": "code",
   "execution_count": 25,
   "id": "c29be30c",
   "metadata": {},
   "outputs": [],
   "source": [
    "MSE = mean_squared_error(test_y, predictions)\n",
    "MAE = mean_absolute_error(test_y, predictions)"
   ]
  },
  {
   "cell_type": "code",
   "execution_count": 26,
   "id": "327dc5ac",
   "metadata": {},
   "outputs": [
    {
     "name": "stdout",
     "output_type": "stream",
     "text": [
      "Mean Square Error : 1.6341975275465552e-09\n",
      "Mean Absolute Error : 3.930277718838919e-05\n"
     ]
    }
   ],
   "source": [
    "print(\"Mean Square Error :\", MSE)\n",
    "print(\"Mean Absolute Error :\", MAE)"
   ]
  },
  {
   "cell_type": "code",
   "execution_count": 27,
   "id": "ee06bacb",
   "metadata": {},
   "outputs": [
    {
     "data": {
      "text/plain": [
       "const               3.778535e-41\n",
       "prices              9.261213e-01\n",
       "ask                 5.254267e-08\n",
       "bid                 4.316690e-02\n",
       "vol                 1.364284e-45\n",
       "logvoldiff          1.776925e-29\n",
       "Rt                  2.085560e-01\n",
       "Rt2                 6.230552e-31\n",
       "daily_price_diff    8.617685e-01\n",
       "obv                 3.630065e-01\n",
       "pricesma2           8.385785e-01\n",
       "pricesma3           7.209552e-01\n",
       "pricesma9           2.271050e-02\n",
       "pricesma12          7.502332e-05\n",
       "pricesmo2           2.962140e-61\n",
       "pricesmo3           5.120650e-13\n",
       "pricesmo6           2.865067e-44\n",
       "pricesmo9           0.000000e+00\n",
       "pricesmo12          3.884012e-73\n",
       "obv2                8.359528e-03\n",
       "obv3                9.919280e-07\n",
       "obv6                4.412927e-09\n",
       "obv9                4.551671e-27\n",
       "obv12               7.772087e-16\n",
       "dtype: float64"
      ]
     },
     "execution_count": 27,
     "metadata": {},
     "output_type": "execute_result"
    }
   ],
   "source": [
    "# P values illustrates the significance of different features.\n",
    "est.pvalues"
   ]
  },
  {
   "cell_type": "code",
   "execution_count": 28,
   "id": "a8f2d922",
   "metadata": {},
   "outputs": [
    {
     "data": {
      "text/plain": [
       "240      0.000156\n",
       "241      0.000164\n",
       "242      0.000168\n",
       "243      0.000168\n",
       "244      0.000168\n",
       "           ...   \n",
       "10828   -0.000041\n",
       "10829   -0.000039\n",
       "10830   -0.000040\n",
       "10831   -0.000040\n",
       "10832   -0.000041\n",
       "Length: 10593, dtype: float64"
      ]
     },
     "execution_count": 28,
     "metadata": {},
     "output_type": "execute_result"
    }
   ],
   "source": [
    "# These are the residuals, which we could manually add to our measured values to obtain the line of best fit\n",
    "est.resid"
   ]
  },
  {
   "cell_type": "code",
   "execution_count": null,
   "id": "e5d58a90",
   "metadata": {},
   "outputs": [],
   "source": [
    "# from statsmodels.stats.outliers_influence import summary_table\n",
    "# st, data, ss2 = summary_table(est, alpha=0.05)"
   ]
  },
  {
   "cell_type": "code",
   "execution_count": null,
   "id": "9cbe1f07",
   "metadata": {},
   "outputs": [],
   "source": [
    "# https://github.com/urschrei/linalg/blob/master/notebooks/ordinary_least_squares.ipynb"
   ]
  },
  {
   "cell_type": "markdown",
   "id": "3d92f4f5",
   "metadata": {},
   "source": [
    "###### Using k Lags of volatility"
   ]
  },
  {
   "cell_type": "code",
   "execution_count": 29,
   "id": "bd0472e3",
   "metadata": {},
   "outputs": [],
   "source": [
    "ols_df = test_df[WINDOW:].copy()\n",
    "y = ols_df[['RV(WINDOW)']]\n",
    "y = y.reset_index()\n",
    "y = y.drop(['index'], axis=1)"
   ]
  },
  {
   "cell_type": "code",
   "execution_count": 30,
   "id": "9d3799f2",
   "metadata": {},
   "outputs": [
    {
     "data": {
      "text/plain": [
       "(10833, 24)"
      ]
     },
     "execution_count": 30,
     "metadata": {},
     "output_type": "execute_result"
    }
   ],
   "source": [
    "ols_df.shape"
   ]
  },
  {
   "cell_type": "code",
   "execution_count": 31,
   "id": "389f7687",
   "metadata": {
    "code_folding": [
     5
    ]
   },
   "outputs": [],
   "source": [
    "ind     = LAGS\n",
    "columns = []\n",
    "\n",
    "\n",
    "# creating k-lags columns\n",
    "for _ in range(1,LAGS+1):\n",
    "    columns.append('t-'+ str(_))\n",
    "NEW_DATA = pd.DataFrame(columns=columns)\n",
    "# filling nan for starting k lags values\n",
    "for _ in range(LAGS+1):\n",
    "    lag_data = []\n",
    "    for __ in range(1,LAGS+1):\n",
    "        lag_data.append(np.nan)\n",
    "    NEW_DATA.loc[_] = lag_data\n",
    "    \n",
    "# appending k-previous lags values in a row\n",
    "for row in y[LAGS:].iterrows():\n",
    "    lag_data = []\n",
    "    for lag in range(1,LAGS+1):\n",
    "        lag_data.append(y.loc[row[0] - lag]['RV(WINDOW)'])\n",
    "    NEW_DATA.loc[ind] = lag_data\n",
    "    ind += 1"
   ]
  },
  {
   "cell_type": "code",
   "execution_count": 32,
   "id": "cc731fd2",
   "metadata": {},
   "outputs": [],
   "source": [
    "NEW_DATA = NEW_DATA.fillna(NEW_DATA.mean())"
   ]
  },
  {
   "cell_type": "code",
   "execution_count": 33,
   "id": "8a7fe594",
   "metadata": {},
   "outputs": [],
   "source": [
    "# ols_df = pd.concat([ols_df, NEW_DATA], axis=1)\n",
    "for _ in range(1,LAGS+1):\n",
    "    ols_df['t-'+ str(_)] = NEW_DATA['t-'+ str(_)].values"
   ]
  },
  {
   "cell_type": "code",
   "execution_count": 34,
   "id": "759195cc",
   "metadata": {},
   "outputs": [],
   "source": [
    "# y = ols_df[WINDOW:][['RV(WINDOW)']]\n",
    "y = ols_df['RV(WINDOW)']\n",
    "X = ols_df.drop(['RV(WINDOW)'], axis=1)\n",
    "X = X.reset_index()\n",
    "X = X.drop(['index'], axis=1)\n",
    "X = X.fillna(X.mean())\n",
    "y = y.fillna(y.mean())\n",
    "# X = (X - X.mean()) / X.std()\n",
    "X = sm.add_constant(X)\n",
    "\n",
    "\n"
   ]
  },
  {
   "cell_type": "code",
   "execution_count": 35,
   "id": "79cb8aee",
   "metadata": {},
   "outputs": [],
   "source": [
    "# Preparing Common Data from Autoression Model and OLS model\n",
    "train_y = y[:-WINDOW]\n",
    "train_X = X[:-WINDOW]\n",
    "test_X  = X[-WINDOW:]\n",
    "test_y  = y[-WINDOW:]\n",
    "train_X = train_X.reset_index()\n",
    "train_y = train_y.reset_index()\n",
    "train_X = train_X.drop(['index'], axis=1)\n",
    "train_y = train_y.drop(['index'], axis=1)"
   ]
  },
  {
   "cell_type": "code",
   "execution_count": 36,
   "id": "11009888",
   "metadata": {},
   "outputs": [
    {
     "name": "stdout",
     "output_type": "stream",
     "text": [
      "                            OLS Regression Results                            \n",
      "==============================================================================\n",
      "Dep. Variable:             RV(WINDOW)   R-squared:                       0.986\n",
      "Model:                            OLS   Adj. R-squared:                  0.986\n",
      "Method:                 Least Squares   F-statistic:                 2.656e+04\n",
      "Date:                Wed, 05 Jan 2022   Prob (F-statistic):               0.00\n",
      "Time:                        02:46:34   Log-Likelihood:             1.0936e+05\n",
      "No. Observations:               10593   AIC:                        -2.187e+05\n",
      "Df Residuals:                   10564   BIC:                        -2.184e+05\n",
      "Df Model:                          28                                         \n",
      "Covariance Type:            nonrobust                                         \n",
      "====================================================================================\n",
      "                       coef    std err          t      P>|t|      [0.025      0.975]\n",
      "------------------------------------------------------------------------------------\n",
      "const             3.999e-07   5.03e-07      0.795      0.427   -5.86e-07    1.39e-06\n",
      "prices           -6.888e-06   2.55e-06     -2.705      0.007   -1.19e-05    -1.9e-06\n",
      "ask                -3.5e-11   1.27e-11     -2.748      0.006      -6e-11      -1e-11\n",
      "bid               -3.86e-11   1.21e-11     -3.199      0.001   -6.22e-11   -1.49e-11\n",
      "vol               8.094e-11   1.07e-11      7.583      0.000       6e-11    1.02e-10\n",
      "logvoldiff        4.584e-07   2.51e-07      1.826      0.068   -3.38e-08    9.51e-07\n",
      "Rt                1.974e-05   1.87e-05      1.055      0.291   -1.69e-05    5.64e-05\n",
      "Rt2                  0.0042   5.79e-05     73.249      0.000       0.004       0.004\n",
      "daily_price_diff  3.279e-06   1.36e-06      2.419      0.016    6.22e-07    5.94e-06\n",
      "obv              -2.466e-12   5.85e-12     -0.421      0.673   -1.39e-11    9.01e-12\n",
      "pricesma2         6.913e-06   2.62e-06      2.642      0.008    1.78e-06     1.2e-05\n",
      "pricesma3        -1.301e-07   6.69e-07     -0.194      0.846   -1.44e-06    1.18e-06\n",
      "pricesma9         1.208e-06   5.55e-07      2.176      0.030     1.2e-07     2.3e-06\n",
      "pricesma12       -1.117e-06   4.28e-07     -2.609      0.009   -1.96e-06   -2.78e-07\n",
      "pricesmo2         8.442e-08    4.6e-08      1.837      0.066   -5.66e-09    1.74e-07\n",
      "pricesmo3        -7.127e-08   4.44e-08     -1.607      0.108   -1.58e-07    1.57e-08\n",
      "pricesmo6        -6.251e-09   2.24e-08     -0.278      0.781   -5.03e-08    3.77e-08\n",
      "pricesmo9         3.994e-08   2.14e-08      1.869      0.062   -1.94e-09    8.18e-08\n",
      "pricesmo12       -2.114e-08   1.64e-08     -1.289      0.197   -5.33e-08     1.1e-08\n",
      "obv2             -3.859e-11   4.08e-11     -0.946      0.344   -1.19e-10    4.13e-11\n",
      "obv3              4.084e-11    5.8e-11      0.704      0.481   -7.29e-11    1.55e-10\n",
      "obv6             -7.468e-11   8.36e-11     -0.893      0.372   -2.39e-10    8.93e-11\n",
      "obv9              1.675e-10   1.19e-10      1.408      0.159   -6.57e-11    4.01e-10\n",
      "obv12            -1.242e-10   1.05e-10     -1.184      0.236    -3.3e-10    8.13e-11\n",
      "t-1                  0.5452      0.008     65.765      0.000       0.529       0.561\n",
      "t-2                  0.2447      0.010     25.755      0.000       0.226       0.263\n",
      "t-3                  0.1051      0.010     10.799      0.000       0.086       0.124\n",
      "t-4                  0.0336      0.010      3.426      0.001       0.014       0.053\n",
      "t-5                  0.0212      0.010      2.123      0.034       0.002       0.041\n",
      "t-6                  0.0390      0.010      3.923      0.000       0.019       0.058\n",
      "==============================================================================\n",
      "Omnibus:                    11626.022   Durbin-Watson:                   0.886\n",
      "Prob(Omnibus):                  0.000   Jarque-Bera (JB):       1269799198.742\n",
      "Skew:                           3.677   Prob(JB):                         0.00\n",
      "Kurtosis:                    1699.132   Cond. No.                     1.56e+16\n",
      "==============================================================================\n",
      "\n",
      "Notes:\n",
      "[1] Standard Errors assume that the covariance matrix of the errors is correctly specified.\n",
      "[2] The smallest eigenvalue is 1.12e-19. This might indicate that there are\n",
      "strong multicollinearity problems or that the design matrix is singular.\n"
     ]
    }
   ],
   "source": [
    "est = sm.OLS(train_y, train_X)\n",
    "est = est.fit()\n",
    "print(est.summary())"
   ]
  },
  {
   "cell_type": "code",
   "execution_count": null,
   "id": "bf26f127",
   "metadata": {},
   "outputs": [],
   "source": [
    "# squaredbool, default=True\n",
    "# If True returns MSE value, if False returns RMSE value."
   ]
  },
  {
   "cell_type": "code",
   "execution_count": 37,
   "id": "c8b5669d",
   "metadata": {},
   "outputs": [
    {
     "name": "stdout",
     "output_type": "stream",
     "text": [
      "Root Mean Square Error : 4.3448361989181585e-07\n",
      "Mean Square Error      : 1.8877601595429591e-13\n",
      "Mean Absolute Error    : 3.067096030073526e-07\n"
     ]
    }
   ],
   "source": [
    "predictions = est.predict(test_X).values\n",
    "MSE         = mean_squared_error(test_y, predictions, squared=True)\n",
    "RMSE        = mean_squared_error(test_y, predictions,squared=False)\n",
    "MAE         = mean_absolute_error(test_y, predictions)\n",
    "print(\"Root Mean Square Error :\", RMSE)\n",
    "print(\"Mean Square Error      :\", MSE)\n",
    "print(\"Mean Absolute Error    :\", MAE)"
   ]
  },
  {
   "cell_type": "code",
   "execution_count": null,
   "id": "8c553928",
   "metadata": {},
   "outputs": [],
   "source": [
    "# https://github.com/jiwidi/time-series-forecasting-with-python/blob/master/03-Results_analysis%26discussion.ipynb"
   ]
  },
  {
   "cell_type": "code",
   "execution_count": null,
   "id": "01f36010",
   "metadata": {},
   "outputs": [],
   "source": []
  },
  {
   "cell_type": "code",
   "execution_count": null,
   "id": "8945d4ad",
   "metadata": {},
   "outputs": [],
   "source": []
  },
  {
   "cell_type": "code",
   "execution_count": null,
   "id": "12b1550c",
   "metadata": {},
   "outputs": [],
   "source": []
  },
  {
   "cell_type": "markdown",
   "id": "d1925d50",
   "metadata": {},
   "source": [
    "###### Shrinkage Approach (Lasso Regression) And Adaptive Lasso"
   ]
  },
  {
   "cell_type": "code",
   "execution_count": null,
   "id": "838e1687",
   "metadata": {},
   "outputs": [],
   "source": [
    "# https://machinelearningmastery.com/lasso-regression-with-python/\n",
    "# https://alex.miller.im/posts/linear-model-custom-loss-function-regularization-python/"
   ]
  },
  {
   "cell_type": "code",
   "execution_count": 38,
   "id": "61158fef",
   "metadata": {},
   "outputs": [],
   "source": [
    "import pandas as pd\n",
    "import numpy as np\n",
    "from sklearn import model_selection\n",
    "from sklearn.linear_model import Lasso\n",
    "from sklearn.linear_model import ElasticNet\n",
    "from sklearn.metrics import r2_score\n",
    "from sklearn.model_selection import train_test_split\n",
    "from sklearn.metrics import mean_squared_error\n",
    "from math import sqrt"
   ]
  },
  {
   "cell_type": "code",
   "execution_count": 39,
   "id": "9bb5b80d",
   "metadata": {},
   "outputs": [
    {
     "name": "stdout",
     "output_type": "stream",
     "text": [
      "Train\n",
      "Root Mean Square Error : 6.662357139355828e-05\n",
      "Mean Square Error      : 4.438700265232558e-09\n",
      "Mean Absolute Error    : 4.592094150435825e-05\n",
      "R2 Score               : 0.016557149366999813\n",
      "Test\n",
      "Root Mean Square Error : 5.6779455280986264e-05\n",
      "Mean Square Error      : 3.223906542005519e-09\n",
      "Mean Absolute Error    : 5.6073957388112985e-05\n",
      "R2 Score               : -39.46552330155483\n"
     ]
    }
   ],
   "source": [
    "reg = Lasso(alpha=0.1)\n",
    "reg.fit(train_X, train_y)\n",
    "pred_train_lr= reg.predict(train_X)\n",
    "\n",
    "MSE         = mean_squared_error(train_y, pred_train_lr, squared=True)\n",
    "RMSE        = mean_squared_error(train_y, pred_train_lr,squared=False)\n",
    "MAE         = mean_absolute_error(train_y, pred_train_lr)\n",
    "print(\"Train\")\n",
    "print(\"Root Mean Square Error :\", RMSE)\n",
    "print(\"Mean Square Error      :\", MSE)\n",
    "print(\"Mean Absolute Error    :\", MAE)\n",
    "print(\"R2 Score               :\", r2_score(train_y, pred_train_lr))\n",
    "\n",
    "pred_test_lr= reg.predict(test_X)\n",
    "MSE         = mean_squared_error(test_y, pred_test_lr, squared=True)\n",
    "RMSE        = mean_squared_error(test_y, pred_test_lr,squared=False)\n",
    "MAE         = mean_absolute_error(test_y, pred_test_lr)\n",
    "print(\"Test\")\n",
    "print(\"Root Mean Square Error :\", RMSE)\n",
    "print(\"Mean Square Error      :\", MSE)\n",
    "print(\"Mean Absolute Error    :\", MAE)\n",
    "print(\"R2 Score               :\", r2_score(test_y, pred_test_lr))\n",
    "\n"
   ]
  },
  {
   "cell_type": "code",
   "execution_count": null,
   "id": "4c6edd9e",
   "metadata": {},
   "outputs": [],
   "source": []
  },
  {
   "cell_type": "code",
   "execution_count": 40,
   "id": "39d76120",
   "metadata": {},
   "outputs": [],
   "source": [
    "import numpy as np\n",
    "import asgl"
   ]
  },
  {
   "cell_type": "code",
   "execution_count": 42,
   "id": "92ca50d4",
   "metadata": {},
   "outputs": [
    {
     "data": {
      "text/plain": [
       "(10593,)"
      ]
     },
     "execution_count": 42,
     "metadata": {},
     "output_type": "execute_result"
    }
   ],
   "source": [
    "train_y.values[:,0].shape"
   ]
  },
  {
   "cell_type": "code",
   "execution_count": 43,
   "id": "2f9fb51f",
   "metadata": {},
   "outputs": [],
   "source": [
    "lambda1 = 10.0 ** np.arange(-3, 1.51, 0.1)\n",
    "\n",
    "tvt_lasso = asgl.TVT(model='lm', penalization='lasso', lambda1=lambda1, parallel=True,\n",
    "                     error_type='MSE', random_state=1)\n",
    "lasso_result = tvt_lasso.train_validate_test(x=train_X.values, y=train_y.values[:,0])\n",
    "\n",
    "lasso_prediction_error = lasso_result['test_error']\n",
    "lasso_betas = lasso_result['optimal_betas'][1:] # Remove intercept"
   ]
  },
  {
   "cell_type": "code",
   "execution_count": null,
   "id": "9bbe4f4a",
   "metadata": {},
   "outputs": [],
   "source": []
  },
  {
   "cell_type": "code",
   "execution_count": 44,
   "id": "a552daf5",
   "metadata": {
    "scrolled": true
   },
   "outputs": [],
   "source": [
    "tvt_alasso = asgl.TVT(model='lm', penalization='alasso', lambda1=lambda1, parallel=True,\n",
    "                      weight_technique='lasso', error_type='MSE', random_state=1, \n",
    "                      train_size=80, validate_size=20)\n",
    "alasso_result = tvt_alasso.train_validate_test(x=train_X.values, y=train_y.values[:,0])\n",
    "\n",
    "alasso_prediction_error = alasso_result['test_error']\n",
    "alasso_betas = alasso_result['optimal_betas'][1:] # Remove intercept"
   ]
  },
  {
   "cell_type": "code",
   "execution_count": 45,
   "id": "796573c3",
   "metadata": {},
   "outputs": [
    {
     "name": "stdout",
     "output_type": "stream",
     "text": [
      "Lasso Error          : 4.396925570826056e-09\n",
      "Adaptive Lasso Error : 4.636127799228995e-09\n"
     ]
    }
   ],
   "source": [
    "print(\"Lasso Error          :\", lasso_prediction_error)\n",
    "print(\"Adaptive Lasso Error :\", alasso_prediction_error) "
   ]
  },
  {
   "cell_type": "code",
   "execution_count": null,
   "id": "15668a07",
   "metadata": {},
   "outputs": [],
   "source": []
  },
  {
   "cell_type": "code",
   "execution_count": null,
   "id": "855744a7",
   "metadata": {},
   "outputs": [],
   "source": []
  },
  {
   "cell_type": "markdown",
   "id": "fc19e020",
   "metadata": {},
   "source": [
    "#####  Elastic Net"
   ]
  },
  {
   "cell_type": "code",
   "execution_count": 46,
   "id": "7da88867",
   "metadata": {},
   "outputs": [],
   "source": [
    "from sklearn.linear_model import ElasticNet"
   ]
  },
  {
   "cell_type": "code",
   "execution_count": 47,
   "id": "4d0a5ca0",
   "metadata": {},
   "outputs": [],
   "source": [
    "regr = ElasticNet(random_state=0)"
   ]
  },
  {
   "cell_type": "code",
   "execution_count": 48,
   "id": "ba33f608",
   "metadata": {},
   "outputs": [
    {
     "data": {
      "text/plain": [
       "ElasticNet(random_state=0)"
      ]
     },
     "execution_count": 48,
     "metadata": {},
     "output_type": "execute_result"
    }
   ],
   "source": [
    "regr.fit(train_X, train_y)"
   ]
  },
  {
   "cell_type": "code",
   "execution_count": 49,
   "id": "6090a898",
   "metadata": {},
   "outputs": [
    {
     "name": "stdout",
     "output_type": "stream",
     "text": [
      "Test\n",
      "Root Mean Square Error : 5.661571259623712e-05\n",
      "Mean Square Error      : 3.205338912779722e-09\n",
      "Mean Absolute Error    : 5.5907678010527224e-05\n",
      "R2 Score               : -39.2324679001958\n"
     ]
    }
   ],
   "source": [
    "predictions = regr.predict(test_X)\n",
    "MSE         = mean_squared_error(test_y, predictions, squared=True)\n",
    "RMSE        = mean_squared_error(test_y, predictions,squared=False)\n",
    "MAE         = mean_absolute_error(test_y, predictions)\n",
    "print(\"Test\")\n",
    "print(\"Root Mean Square Error :\", RMSE)\n",
    "print(\"Mean Square Error      :\", MSE)\n",
    "print(\"Mean Absolute Error    :\", MAE)\n",
    "print(\"R2 Score               :\", r2_score(test_y, predictions))\n"
   ]
  },
  {
   "cell_type": "code",
   "execution_count": null,
   "id": "cba701b5",
   "metadata": {},
   "outputs": [],
   "source": []
  },
  {
   "cell_type": "code",
   "execution_count": null,
   "id": "aa56aeca",
   "metadata": {},
   "outputs": [],
   "source": []
  },
  {
   "cell_type": "markdown",
   "id": "91b3fbac",
   "metadata": {},
   "source": [
    "#### API"
   ]
  },
  {
   "cell_type": "code",
   "execution_count": 50,
   "id": "069d4bcb",
   "metadata": {},
   "outputs": [],
   "source": [
    "AVAILABLE_CRYPTOS = list(prices_df.columns)\n",
    "AVAILABLE_CRYPTOS.remove('bake')\n",
    "AVAILABLE_CRYPTOS.remove('alice')\n",
    "# these cryptos have majority of Nan values"
   ]
  },
  {
   "cell_type": "code",
   "execution_count": 51,
   "id": "03682ef5",
   "metadata": {},
   "outputs": [],
   "source": [
    "CRYPTO       = '1inch'\n",
    "assert CRYPTO in AVAILABLE_CRYPTOS\n",
    "PRICE_INPUT  = prices_df[CRYPTO]\n",
    "BID_INPUT    = bid_df[CRYPTO]\n",
    "ASK_INPUT    = ask_df[CRYPTO]\n",
    "LOG_DIFF     = logvoldiff_df[CRYPTO]\n",
    "WINDOW       = 240\n",
    "LAGS         = 6"
   ]
  },
  {
   "cell_type": "code",
   "execution_count": 52,
   "id": "03e6f520",
   "metadata": {
    "code_folding": []
   },
   "outputs": [],
   "source": [
    "def preprocessing(PRICE_INPUT, BID_INPUT, ASK_INPUT, LOG_DIFF):\n",
    "    test_df = pd.DataFrame()\n",
    "    test_df['date']             = prices_df['datetime']\n",
    "    test_df['prices']           = PRICE_INPUT\n",
    "    test_df['ask']              = ASK_INPUT\n",
    "    test_df['bid']              = BID_INPUT\n",
    "    test_df['vol']              = 0.5 * (test_df['ask'] + test_df['bid'])\n",
    "    test_df['vol']              = 0.5 * (test_df['ask'] + test_df['bid'])\n",
    "    test_df['logvoldiff']       = LOG_DIFF\n",
    "    test_df['Rt']               = np.log(test_df['prices']) - np.log(test_df['prices'].shift(1))\n",
    "    test_df['Rt2']              = test_df['Rt'] * test_df['Rt']\n",
    "    test_df['RV(WINDOW)']       = test_df['Rt2'].rolling(WINDOW).mean()\n",
    "    test_df['daily_price_diff'] = test_df['prices'] - test_df['prices'].shift(1)\n",
    "    test_df['obv']              = test_df[['daily_price_diff']].apply(lambda x: 1 if x['daily_price_diff']>0 else 0, axis=1) \\\n",
    "                                    * test_df['vol']\n",
    "\n",
    "    test_df = test_df.drop(['date'], axis=1)\n",
    "    \n",
    "    # Moving Average ( s = 1,2,3), l = (9,12)\n",
    "    test_df['pricesma2']   = test_df['prices'].rolling(2).mean()\n",
    "    test_df['pricesma3']   = test_df['prices'].rolling(3).mean()\n",
    "    test_df['pricesma9']   = test_df['prices'].rolling(9).mean()\n",
    "    test_df['pricesma12']   = test_df['prices'].rolling(12).mean()\n",
    "    # Momentum Signal is computed monthly so analogoues to our use case, compunting it in windows.\n",
    "    # ( s = 1,2,3), l = (9,12)\n",
    "    test_df['pricesmo2']   = test_df['prices'].rolling(WINDOW * 2).mean()\n",
    "    test_df['pricesmo3']   = test_df['prices'].rolling(WINDOW * 3).mean()\n",
    "    test_df['pricesmo6']   = test_df['prices'].rolling(WINDOW * 6).mean()\n",
    "    test_df['pricesmo9']   = test_df['prices'].rolling(WINDOW * 9).mean()\n",
    "    test_df['pricesmo12']   = test_df['prices'].rolling(WINDOW * 12).mean()\n",
    "    #On Balance Volume ( s = 1,2,3), l = (9,12)\n",
    "    test_df['obv2']        = test_df['obv'].rolling(WINDOW * 2).mean()\n",
    "    test_df['obv3']        = test_df['obv'].rolling(WINDOW * 3).mean()\n",
    "    test_df['obv6']        = test_df['obv'].rolling(WINDOW * 6).mean()\n",
    "    test_df['obv9']        = test_df['obv'].rolling(WINDOW * 9).mean()\n",
    "    test_df['obv12']        = test_df['obv'].rolling(WINDOW * 12).mean()\n",
    "    \n",
    "    return test_df"
   ]
  },
  {
   "cell_type": "code",
   "execution_count": 53,
   "id": "036a7844",
   "metadata": {
    "code_folding": [
     0
    ]
   },
   "outputs": [],
   "source": [
    "def train_test_split(test_df): \n",
    "    # Voalatity to be predicted\n",
    "    # Leaving first WINDOW variables as they have NAN\n",
    "    y = test_df[WINDOW:]['RV(WINDOW)'] \n",
    "    # Independent variables\n",
    "    X = test_df[WINDOW:].drop(['RV(WINDOW)'], axis=1)\n",
    "    X = X.fillna(X.mean())\n",
    "    y = y.fillna(y.mean())\n",
    "    X = sm.add_constant(X) \n",
    "\n",
    "    # Preparing Common Data from Autoression Model and OLS model\n",
    "    train_y = y[:-WINDOW]\n",
    "    train_X = X[:-WINDOW]\n",
    "    test_X  = X[-WINDOW:]\n",
    "    test_y  = y[-WINDOW:]\n",
    "    print(\"Training Data shape : \", train_X.shape, train_y.shape)\n",
    "    print(\"Testing  Data shape : \", test_X.shape, test_y.shape)\n",
    "    \n",
    "    return train_y, train_X,test_X ,test_y"
   ]
  },
  {
   "cell_type": "code",
   "execution_count": 54,
   "id": "92ee78fb",
   "metadata": {
    "code_folding": [
     0
    ]
   },
   "outputs": [],
   "source": [
    "def AR_MODEL(train_ar,test_ar, LAGS, save_model = False, return_model = False):\n",
    "    model     = AutoReg(train_ar,lags=LAGS)\n",
    "    model_fit = model.fit()\n",
    "    window    = LAGS\n",
    "    coef      = model_fit.params\n",
    "    history   = train_ar[len(train_ar)-window:]\n",
    "    history   = [history[i] for i in range(len(history))]\n",
    "    # The list of predictions\n",
    "    predictions = list()\n",
    "\n",
    "    # Walk-forward validation\n",
    "    # Walk forward over time steps in test\n",
    "    for t in range(len(test_ar)):\n",
    "        length = len(history)\n",
    "        lag = [history[i] for i in range(length-window, length)]\n",
    "        yhat = coef[0]\n",
    "        for d in range(window):\n",
    "            yhat += coef[d+1] * lag[window-d-1]\n",
    "        obs = test_ar[t]\n",
    "        # Store forecast\n",
    "        predictions.append(yhat)\n",
    "        history.append(obs)\n",
    "    \n",
    "        # Mean Squared Error – átlagos négyzetes hiba\n",
    "    mse = mean_squared_error(test_ar, predictions)\n",
    "    print('MSE:  ' + str(mse))\n",
    "    # Mean Absolute Error\n",
    "    mae = mean_absolute_error(test_ar, predictions)\n",
    "    print('MAE:  ' + str(mae))\n",
    "    # Root Mean Squared Error - a MSE négyzetgyöke\n",
    "    rmse = math.sqrt(mean_squared_error(test_ar, predictions))\n",
    "    print('RMSE: ' + str(rmse))\n",
    "    \n",
    "    if save_model:\n",
    "        dump(model, open('AR_MODEL.pkl', 'wb'))\n",
    "    \n",
    "    if return_model:\n",
    "        return model     "
   ]
  },
  {
   "cell_type": "code",
   "execution_count": 56,
   "id": "427be5e9",
   "metadata": {},
   "outputs": [],
   "source": [
    "exp_df = preprocessing(PRICE_INPUT, BID_INPUT, ASK_INPUT, LOG_DIFF)"
   ]
  },
  {
   "cell_type": "code",
   "execution_count": 57,
   "id": "8b05de67",
   "metadata": {},
   "outputs": [
    {
     "name": "stdout",
     "output_type": "stream",
     "text": [
      "Training Data shape :  (10593, 24) (10593,)\n",
      "Testing  Data shape :  (240, 24) (240,)\n"
     ]
    }
   ],
   "source": [
    "train_y, train_X,test_X ,test_y = train_test_split(exp_df)"
   ]
  },
  {
   "cell_type": "code",
   "execution_count": 58,
   "id": "b8a6eb6c",
   "metadata": {},
   "outputs": [
    {
     "name": "stdout",
     "output_type": "stream",
     "text": [
      "MSE:  7.872663163689955e-13\n",
      "MAE:  5.420830236296093e-07\n",
      "RMSE: 8.872802918858254e-07\n"
     ]
    }
   ],
   "source": [
    "AR_MODEL(train_y.values, test_y.values, LAGS)"
   ]
  },
  {
   "cell_type": "code",
   "execution_count": null,
   "id": "30c0fd82",
   "metadata": {},
   "outputs": [],
   "source": []
  },
  {
   "cell_type": "code",
   "execution_count": 61,
   "id": "72e0fa9e",
   "metadata": {
    "code_folding": [
     0
    ]
   },
   "outputs": [],
   "source": [
    "def OLS_1_LAG(ols_df, save_model = False, return_model = False):\n",
    "    y = ols_df[WINDOW:]['RV(WINDOW)'] \n",
    "    # Independent variables\n",
    "    X = ols_df[WINDOW:].drop(['RV(WINDOW)'], axis=1)\n",
    "    X = X.fillna(X.mean())\n",
    "    y = y.fillna(y.mean())\n",
    "    X = sm.add_constant(X) \n",
    "\n",
    "    # Preparing Common Data from Autoression Model and OLS model\n",
    "    train_y = y[:-WINDOW]\n",
    "    train_X = X[:-WINDOW]\n",
    "    test_X  = X[-WINDOW:]\n",
    "    test_y  = y[-WINDOW:]\n",
    "    \n",
    "    print(y.shape)\n",
    "    \n",
    "    est = sm.OLS(train_y, train_X)\n",
    "    \n",
    "    est = est.fit()\n",
    "    print(est.summary())\n",
    "    \n",
    "    predictions = est.predict(test_X).values\n",
    "    MSE  = mean_squared_error(test_y, predictions, squared=True)\n",
    "    RMSE = mean_squared_error(test_y, predictions, squared=False)\n",
    "    MAE  = mean_absolute_error(test_y, predictions)\n",
    "    print('\\n')\n",
    "    print(\"Root Mean Square Error :\", RMSE)\n",
    "    print(\"Mean Square Error      :\", MSE)\n",
    "    print(\"Mean Absolute Error    :\", MAE)\n",
    "    \n",
    "    \n",
    "    if save_model:\n",
    "        dump(model, open('OLS_k_Lags.pkl', 'wb'))\n",
    "    if return_model:\n",
    "        return model    "
   ]
  },
  {
   "cell_type": "code",
   "execution_count": 62,
   "id": "a8551061",
   "metadata": {},
   "outputs": [
    {
     "name": "stdout",
     "output_type": "stream",
     "text": [
      "(10833,)\n",
      "                            OLS Regression Results                            \n",
      "==============================================================================\n",
      "Dep. Variable:             RV(WINDOW)   R-squared:                       0.158\n",
      "Model:                            OLS   Adj. R-squared:                  0.156\n",
      "Method:                 Least Squares   F-statistic:                     90.27\n",
      "Date:                Wed, 05 Jan 2022   Prob (F-statistic):               0.00\n",
      "Time:                        02:50:17   Log-Likelihood:                 81633.\n",
      "No. Observations:               10593   AIC:                        -1.632e+05\n",
      "Df Residuals:                   10570   BIC:                        -1.631e+05\n",
      "Df Model:                          22                                         \n",
      "Covariance Type:            nonrobust                                         \n",
      "====================================================================================\n",
      "                       coef    std err          t      P>|t|      [0.025      0.975]\n",
      "------------------------------------------------------------------------------------\n",
      "const                0.0001   1.85e-05      6.733      0.000    8.84e-05       0.000\n",
      "prices            1.327e-05      0.000      0.070      0.944      -0.000       0.000\n",
      "ask              -6.314e-12   1.49e-11     -0.424      0.672   -3.55e-11    2.29e-11\n",
      "bid              -6.476e-11   1.76e-11     -3.685      0.000   -9.92e-11   -3.03e-11\n",
      "vol              -6.982e-11    4.5e-12    -15.514      0.000   -7.86e-11    -6.1e-11\n",
      "logvoldiff        3.911e-05   6.76e-06      5.787      0.000    2.59e-05    5.24e-05\n",
      "Rt                   0.0005      0.000      1.973      0.049     3.4e-06       0.001\n",
      "Rt2                  0.0110      0.001      9.332      0.000       0.009       0.013\n",
      "daily_price_diff -5.398e-05      0.000     -0.465      0.642      -0.000       0.000\n",
      "obv              -7.884e-12    6.2e-12     -1.271      0.204      -2e-11    4.27e-12\n",
      "pricesma2         7.684e-05      0.000      0.386      0.700      -0.000       0.000\n",
      "pricesma3            -1e-05   7.39e-05     -0.135      0.892      -0.000       0.000\n",
      "pricesma9         7.764e-05   5.99e-05      1.297      0.195   -3.97e-05       0.000\n",
      "pricesma12          -0.0001    4.7e-05     -2.945      0.003      -0.000   -4.63e-05\n",
      "pricesmo2         1.501e-06   9.62e-06      0.156      0.876   -1.73e-05    2.03e-05\n",
      "pricesmo3         -7.19e-05   1.36e-05     -5.303      0.000   -9.85e-05   -4.53e-05\n",
      "pricesmo6            0.0002   1.33e-05     12.879      0.000       0.000       0.000\n",
      "pricesmo9           -0.0001   1.19e-05    -11.068      0.000      -0.000      -0.000\n",
      "pricesmo12        2.781e-05   6.19e-06      4.494      0.000    1.57e-05    3.99e-05\n",
      "obv2             -3.495e-10    6.4e-11     -5.457      0.000   -4.75e-10   -2.24e-10\n",
      "obv3              6.116e-10   1.01e-10      6.084      0.000    4.15e-10    8.09e-10\n",
      "obv6             -1.856e-09   1.29e-10    -14.335      0.000   -2.11e-09    -1.6e-09\n",
      "obv9              2.816e-09   1.54e-10     18.274      0.000    2.51e-09    3.12e-09\n",
      "obv12            -1.054e-09   1.43e-10     -7.370      0.000   -1.33e-09   -7.74e-10\n",
      "==============================================================================\n",
      "Omnibus:                     6404.690   Durbin-Watson:                   0.018\n",
      "Prob(Omnibus):                  0.000   Jarque-Bera (JB):            58491.063\n",
      "Skew:                           2.855   Prob(JB):                         0.00\n",
      "Kurtosis:                      12.996   Cond. No.                     5.49e+15\n",
      "==============================================================================\n",
      "\n",
      "Notes:\n",
      "[1] Standard Errors assume that the covariance matrix of the errors is correctly specified.\n",
      "[2] The smallest eigenvalue is 3.1e-16. This might indicate that there are\n",
      "strong multicollinearity problems or that the design matrix is singular.\n",
      "\n",
      "\n",
      "Root Mean Square Error : 7.546281642194854e-05\n",
      "Mean Square Error      : 5.694636662332705e-09\n",
      "Mean Absolute Error    : 7.395807546387563e-05\n"
     ]
    }
   ],
   "source": [
    "OLS_1_LAG(exp_df)"
   ]
  },
  {
   "cell_type": "code",
   "execution_count": null,
   "id": "3de97123",
   "metadata": {
    "code_folding": [
     0
    ]
   },
   "outputs": [],
   "source": [
    "# def OLS(ols_df):\n",
    "    \n",
    "#     y = ols_df[WINDOW:]['RV(WINDOW)'] \n",
    "#     y = y.fillna(y.mean())\n",
    "#     y = y.reset_index()\n",
    "#     y = y.drop(['index'], axis=1)\n",
    "    \n",
    "#     ind     = 0\n",
    "#     columns = []\n",
    "#     for _ in range(LAGS):\n",
    "#         columns.append('t-'+ str(_))\n",
    "#     NEW_DATA = pd.DataFrame(columns=columns)\n",
    "#     for row in y[LAGS:].iterrows():\n",
    "#         lag_data = []\n",
    "#         for lag in range(LAGS):\n",
    "#             lag_data.append(y.loc[row[0] - lag]['RV(WINDOW)'])\n",
    "#         NEW_DATA.loc[ind] = lag_data\n",
    "#         ind += 1\n",
    "        \n",
    "#     ols_df = pd.concat([ols_df, NEW_DATA], axis=1)\n",
    "    \n",
    "    \n",
    "#     # Independent variables\n",
    "#     X = ols_df[WINDOW:].drop(['RV(WINDOW)', 'date'], axis=1)\n",
    "#     X = X.fillna(X.mean())\n",
    "    \n",
    "# #     X = sm.add_constant(X) \n",
    "\n",
    "#     # Preparing Common Data from Autoression Model and OLS model\n",
    "#     train_y = y[:-WINDOW]\n",
    "#     train_X = X[:-WINDOW]\n",
    "#     test_X  = X[-WINDOW:]\n",
    "#     test_y  = y[-WINDOW:]\n",
    "#     train_X = train_X.reset_index()\n",
    "#     train_y = train_y.reset_index()\n",
    "#     train_X = train_X.drop(['index'], axis=1)\n",
    "#     train_y = train_y.drop(['index'], axis=1)\n",
    "    \n",
    "#     est = sm.OLS(train_y, train_X)\n",
    "    \n",
    "#     est = est.fit()\n",
    "#     print(est.summary())\n",
    "    \n",
    "    \n",
    "#     predictions = est.predict(test_X).values\n",
    "#     MSE  = mean_squared_error(test_y, predictions, squared=True)\n",
    "#     RMSE = mean_squared_error(test_y, predictions,squared=False)\n",
    "#     MAE  = mean_absolute_error(test_y, predictions)\n",
    "    \n",
    "#     print('\\n')\n",
    "#     print(\"Root Mean Square Error :\", RMSE)\n",
    "#     print(\"Mean Square Error      :\", MSE)\n",
    "#     print(\"Mean Absolute Error    :\", MAE)\n",
    "# OLS(exp_df)"
   ]
  },
  {
   "cell_type": "code",
   "execution_count": 63,
   "id": "8da89c32",
   "metadata": {
    "code_folding": []
   },
   "outputs": [],
   "source": [
    "def OLS(test_df, save_model = False, return_model = False):\n",
    "    ols_df = test_df[WINDOW:].copy()\n",
    "    y = ols_df[['RV(WINDOW)']]\n",
    "    y = y.reset_index()\n",
    "    y = y.drop(['index'], axis=1)\n",
    "    \n",
    "    ind     = LAGS\n",
    "    columns = []\n",
    "\n",
    "    # creating k-lags columns\n",
    "    for _ in range(1,LAGS+1):\n",
    "        columns.append('t-'+ str(_))\n",
    "    NEW_DATA = pd.DataFrame(columns=columns)\n",
    "    # filling nan for starting k lags values\n",
    "    for _ in range(LAGS+1):\n",
    "        lag_data = []\n",
    "        for __ in range(1,LAGS+1):\n",
    "            lag_data.append(np.nan)\n",
    "        NEW_DATA.loc[_] = lag_data\n",
    "\n",
    "    # appending k-previous lags values in a row\n",
    "    for row in y[LAGS:].iterrows():\n",
    "        lag_data = []\n",
    "        for lag in range(1,LAGS+1):\n",
    "            lag_data.append(y.loc[row[0] - lag]['RV(WINDOW)'])\n",
    "        NEW_DATA.loc[ind] = lag_data\n",
    "        ind += 1\n",
    "        \n",
    "    NEW_DATA = NEW_DATA.fillna(NEW_DATA.mean())\n",
    "    \n",
    "    # ols_df = pd.concat([ols_df, NEW_DATA], axis=1)\n",
    "    for _ in range(1,LAGS+1):\n",
    "        ols_df['t-'+ str(_)] = NEW_DATA['t-'+ str(_)].values\n",
    "\n",
    "        # y = ols_df[WINDOW:][['RV(WINDOW)']]\n",
    "    y = ols_df['RV(WINDOW)']\n",
    "    X = ols_df.drop(['RV(WINDOW)'], axis=1)\n",
    "    X = X.reset_index()\n",
    "    X = X.drop(['index'], axis=1)\n",
    "    X = X.fillna(X.mean())\n",
    "    y = y.fillna(y.mean())\n",
    "    X = sm.add_constant(X) \n",
    "    \n",
    "    # Preparing Common Data from Autoression Model and OLS model\n",
    "    train_y = y[:-WINDOW]\n",
    "    train_X = X[:-WINDOW]\n",
    "    test_X  = X[-WINDOW:]\n",
    "    test_y  = y[-WINDOW:]\n",
    "    train_X = train_X.reset_index()\n",
    "    train_y = train_y.reset_index()\n",
    "    train_X = train_X.drop(['index'], axis=1)\n",
    "    train_y = train_y.drop(['index'], axis=1)\n",
    "    est = sm.OLS(train_y, train_X)\n",
    "    est = est.fit()\n",
    "    print(est.summary())\n",
    "    \n",
    "    predictions = est.predict(test_X).values\n",
    "    MSE  = mean_squared_error(test_y, predictions, squared=True)\n",
    "    RMSE = mean_squared_error(test_y, predictions,squared=False)\n",
    "    MAE  = mean_absolute_error(test_y, predictions)\n",
    "    print('\\n')\n",
    "    print(\"Root Mean Square Error :\", RMSE)\n",
    "    print(\"Mean Square Error      :\", MSE)\n",
    "    print(\"Mean Absolute Error    :\", MAE)\n",
    "    \n",
    "    \n",
    "    if save_model:\n",
    "        dump(model, open('OLS_k_Lags.pkl', 'wb'))\n",
    "    if return_model:\n",
    "        return model     "
   ]
  },
  {
   "cell_type": "code",
   "execution_count": 64,
   "id": "bab82998",
   "metadata": {},
   "outputs": [
    {
     "name": "stdout",
     "output_type": "stream",
     "text": [
      "                            OLS Regression Results                            \n",
      "==============================================================================\n",
      "Dep. Variable:             RV(WINDOW)   R-squared:                       0.989\n",
      "Model:                            OLS   Adj. R-squared:                  0.989\n",
      "Method:                 Least Squares   F-statistic:                 3.278e+04\n",
      "Date:                Wed, 05 Jan 2022   Prob (F-statistic):               0.00\n",
      "Time:                        02:50:44   Log-Likelihood:             1.0443e+05\n",
      "No. Observations:               10593   AIC:                        -2.088e+05\n",
      "Df Residuals:                   10564   BIC:                        -2.086e+05\n",
      "Df Model:                          28                                         \n",
      "Covariance Type:            nonrobust                                         \n",
      "====================================================================================\n",
      "                       coef    std err          t      P>|t|      [0.025      0.975]\n",
      "------------------------------------------------------------------------------------\n",
      "const             1.326e-07   2.16e-06      0.061      0.951    -4.1e-06    4.36e-06\n",
      "prices           -1.823e-05   2.32e-05     -0.786      0.432   -6.37e-05    2.72e-05\n",
      "ask               1.598e-09   4.52e-10      3.538      0.000    7.13e-10    2.48e-09\n",
      "bid               1.605e-09   4.52e-10      3.553      0.000    7.19e-10    2.49e-09\n",
      "vol              -3.205e-09   9.03e-10     -3.549      0.000   -4.98e-09   -1.44e-09\n",
      "logvoldiff        -1.74e-06   7.88e-07     -2.210      0.027   -3.28e-06   -1.96e-07\n",
      "Rt                5.043e-05    3.1e-05      1.624      0.104   -1.04e-05       0.000\n",
      "Rt2                  0.0042      0.000     30.351      0.000       0.004       0.004\n",
      "daily_price_diff  2.518e-06    1.4e-05      0.180      0.857   -2.48e-05    2.99e-05\n",
      "obv               -7.38e-13   7.22e-13     -1.022      0.307   -2.15e-12    6.77e-13\n",
      "pricesma2         2.218e-05   2.43e-05      0.913      0.361   -2.54e-05    6.98e-05\n",
      "pricesma3         2.185e-06   8.62e-06      0.253      0.800   -1.47e-05    1.91e-05\n",
      "pricesma9        -8.185e-06   6.97e-06     -1.175      0.240   -2.18e-05    5.47e-06\n",
      "pricesma12        2.545e-06   5.47e-06      0.466      0.642   -8.17e-06    1.33e-05\n",
      "pricesmo2        -2.029e-07   1.12e-06     -0.181      0.856    -2.4e-06    1.99e-06\n",
      "pricesmo3         1.557e-07   1.58e-06      0.099      0.921   -2.94e-06    3.25e-06\n",
      "pricesmo6        -1.133e-06   1.55e-06     -0.728      0.466   -4.18e-06    1.92e-06\n",
      "pricesmo9         6.844e-07    1.4e-06      0.490      0.624   -2.06e-06    3.42e-06\n",
      "pricesmo12         1.32e-07    7.2e-07      0.183      0.855   -1.28e-06    1.54e-06\n",
      "obv2              7.772e-12   7.46e-12      1.041      0.298   -6.86e-12    2.24e-11\n",
      "obv3             -9.655e-12   1.17e-11     -0.824      0.410   -3.26e-11    1.33e-11\n",
      "obv6              7.673e-12   1.52e-11      0.505      0.614   -2.21e-11    3.75e-11\n",
      "obv9              5.256e-12   1.82e-11      0.289      0.773   -3.04e-11    4.09e-11\n",
      "obv12             -4.49e-12   1.67e-11     -0.269      0.788   -3.72e-11    2.82e-11\n",
      "t-1                  0.8257      0.014     61.136      0.000       0.799       0.852\n",
      "t-2                  0.1312      0.018      7.269      0.000       0.096       0.167\n",
      "t-3                  0.0338      0.018      1.858      0.063      -0.002       0.069\n",
      "t-4                 -0.0057      0.018     -0.323      0.747      -0.041       0.029\n",
      "t-5                  0.0051      0.018      0.288      0.773      -0.029       0.040\n",
      "t-6                  0.0038      0.014      0.279      0.780      -0.023       0.030\n",
      "==============================================================================\n",
      "Omnibus:                    26421.202   Durbin-Watson:                   0.811\n",
      "Prob(Omnibus):                  0.000   Jarque-Bera (JB):        755868345.617\n",
      "Skew:                          26.784   Prob(JB):                         0.00\n",
      "Kurtosis:                    1310.540   Cond. No.                     5.50e+15\n",
      "==============================================================================\n",
      "\n",
      "Notes:\n",
      "[1] Standard Errors assume that the covariance matrix of the errors is correctly specified.\n",
      "[2] The smallest eigenvalue is 3.09e-16. This might indicate that there are\n",
      "strong multicollinearity problems or that the design matrix is singular.\n",
      "\n",
      "\n",
      "Root Mean Square Error : 7.989152953049981e-07\n",
      "Mean Square Error      : 6.382656490722724e-13\n",
      "Mean Absolute Error    : 5.435164380192093e-07\n"
     ]
    }
   ],
   "source": [
    "OLS(exp_df)"
   ]
  },
  {
   "cell_type": "code",
   "execution_count": null,
   "id": "91caf533",
   "metadata": {},
   "outputs": [],
   "source": []
  }
 ],
 "metadata": {
  "kernelspec": {
   "display_name": "Python 3",
   "language": "python",
   "name": "python3"
  },
  "language_info": {
   "codemirror_mode": {
    "name": "ipython",
    "version": 3
   },
   "file_extension": ".py",
   "mimetype": "text/x-python",
   "name": "python",
   "nbconvert_exporter": "python",
   "pygments_lexer": "ipython3",
   "version": "3.8.9"
  }
 },
 "nbformat": 4,
 "nbformat_minor": 5
}
